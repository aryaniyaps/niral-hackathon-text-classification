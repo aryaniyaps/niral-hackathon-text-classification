{
 "cells": [
  {
   "cell_type": "markdown",
   "metadata": {},
   "source": [
    "# Finetune BERT for text classification"
   ]
  },
  {
   "cell_type": "markdown",
   "metadata": {},
   "source": [
    "### Install dependencies"
   ]
  },
  {
   "cell_type": "code",
   "execution_count": 32,
   "metadata": {},
   "outputs": [
    {
     "name": "stdout",
     "output_type": "stream",
     "text": [
      "Note: you may need to restart the kernel to use updated packages.\n"
     ]
    }
   ],
   "source": [
    "%pip install transformers torch datasets pandas scikit-learn accelerate -q"
   ]
  },
  {
   "cell_type": "markdown",
   "metadata": {},
   "source": [
    "### Label transcript dataset"
   ]
  },
  {
   "cell_type": "code",
   "execution_count": 33,
   "metadata": {},
   "outputs": [],
   "source": [
    "from enum import StrEnum\n",
    "\n",
    "class CompanyPolicy(StrEnum):\n",
    "    FREE_RC_TRANSFER = \"free_rc_transfer\"\n",
    "    FIVE_DAY_MONEY_BACK_GUARANTEE = \"5_day_money_back_guarantee\"\n",
    "    FREE_RSA_FOR_ONE_YEAR = \"free_rsa_for_one_year\"\n",
    "    RETURN_POLICY = \"return_policy\""
   ]
  },
  {
   "cell_type": "code",
   "execution_count": 34,
   "metadata": {},
   "outputs": [],
   "source": [
    "transcript_labels = {\n",
    "    1: [CompanyPolicy.FIVE_DAY_MONEY_BACK_GUARANTEE,],\n",
    "    2: [CompanyPolicy.FIVE_DAY_MONEY_BACK_GUARANTEE, CompanyPolicy.RETURN_POLICY],\n",
    "    3: [CompanyPolicy.FREE_RC_TRANSFER, CompanyPolicy.RETURN_POLICY],\n",
    "    4: [],\n",
    "    6: [CompanyPolicy.FREE_RC_TRANSFER,],\n",
    "    7: [CompanyPolicy.FREE_RC_TRANSFER, CompanyPolicy.RETURN_POLICY],\n",
    "    8: [CompanyPolicy.FREE_RC_TRANSFER,],\n",
    "    9: [CompanyPolicy.FREE_RC_TRANSFER,],\n",
    "    10: [],\n",
    "    11: [CompanyPolicy.FREE_RC_TRANSFER,],\n",
    "}"
   ]
  },
  {
   "cell_type": "markdown",
   "metadata": {},
   "source": [
    "### Create dataframe"
   ]
  },
  {
   "cell_type": "code",
   "execution_count": 35,
   "metadata": {},
   "outputs": [
    {
     "data": {
      "text/html": [
       "<div>\n",
       "<style scoped>\n",
       "    .dataframe tbody tr th:only-of-type {\n",
       "        vertical-align: middle;\n",
       "    }\n",
       "\n",
       "    .dataframe tbody tr th {\n",
       "        vertical-align: top;\n",
       "    }\n",
       "\n",
       "    .dataframe thead th {\n",
       "        text-align: right;\n",
       "    }\n",
       "</style>\n",
       "<table border=\"1\" class=\"dataframe\">\n",
       "  <thead>\n",
       "    <tr style=\"text-align: right;\">\n",
       "      <th></th>\n",
       "      <th>Conversation_ID</th>\n",
       "      <th>Text</th>\n",
       "      <th>Labels</th>\n",
       "    </tr>\n",
       "  </thead>\n",
       "  <tbody>\n",
       "    <tr>\n",
       "      <th>0</th>\n",
       "      <td>1</td>\n",
       "      <td>Salesperson: We have a few options in terms of...</td>\n",
       "      <td>5_day_money_back_guarantee</td>\n",
       "    </tr>\n",
       "    <tr>\n",
       "      <th>1</th>\n",
       "      <td>2</td>\n",
       "      <td>Salesperson: Good afternoon, sir. How can I as...</td>\n",
       "      <td>5_day_money_back_guarantee, return_policy</td>\n",
       "    </tr>\n",
       "    <tr>\n",
       "      <th>2</th>\n",
       "      <td>3</td>\n",
       "      <td>Salesperson: Welcome! Let me show you our sele...</td>\n",
       "      <td>free_rc_transfer, return_policy</td>\n",
       "    </tr>\n",
       "    <tr>\n",
       "      <th>3</th>\n",
       "      <td>4</td>\n",
       "      <td>Salesperson: Good afternoon, sir! How can I as...</td>\n",
       "      <td></td>\n",
       "    </tr>\n",
       "    <tr>\n",
       "      <th>4</th>\n",
       "      <td>6</td>\n",
       "      <td>Salesperson: Good afternoon, sir. Can I offer ...</td>\n",
       "      <td>free_rc_transfer</td>\n",
       "    </tr>\n",
       "    <tr>\n",
       "      <th>5</th>\n",
       "      <td>7</td>\n",
       "      <td>Salesperson: Good afternoon, sir. Here we have...</td>\n",
       "      <td>free_rc_transfer, return_policy</td>\n",
       "    </tr>\n",
       "    <tr>\n",
       "      <th>6</th>\n",
       "      <td>8</td>\n",
       "      <td>Salesperson: The price is 10.72 lakhs for the ...</td>\n",
       "      <td>free_rc_transfer</td>\n",
       "    </tr>\n",
       "    <tr>\n",
       "      <th>7</th>\n",
       "      <td>9</td>\n",
       "      <td>Salesperson: Good afternoon, sir. Have you boo...</td>\n",
       "      <td>free_rc_transfer</td>\n",
       "    </tr>\n",
       "    <tr>\n",
       "      <th>8</th>\n",
       "      <td>10</td>\n",
       "      <td>Salesperson: Hello sir, how are you today? \\nC...</td>\n",
       "      <td></td>\n",
       "    </tr>\n",
       "    <tr>\n",
       "      <th>9</th>\n",
       "      <td>11</td>\n",
       "      <td>Salesperson: Hello sir, welcome to YoCars Park...</td>\n",
       "      <td>free_rc_transfer</td>\n",
       "    </tr>\n",
       "  </tbody>\n",
       "</table>\n",
       "</div>"
      ],
      "text/plain": [
       "   Conversation_ID                                               Text  \\\n",
       "0                1  Salesperson: We have a few options in terms of...   \n",
       "1                2  Salesperson: Good afternoon, sir. How can I as...   \n",
       "2                3  Salesperson: Welcome! Let me show you our sele...   \n",
       "3                4  Salesperson: Good afternoon, sir! How can I as...   \n",
       "4                6  Salesperson: Good afternoon, sir. Can I offer ...   \n",
       "5                7  Salesperson: Good afternoon, sir. Here we have...   \n",
       "6                8  Salesperson: The price is 10.72 lakhs for the ...   \n",
       "7                9  Salesperson: Good afternoon, sir. Have you boo...   \n",
       "8               10  Salesperson: Hello sir, how are you today? \\nC...   \n",
       "9               11  Salesperson: Hello sir, welcome to YoCars Park...   \n",
       "\n",
       "                                      Labels  \n",
       "0                 5_day_money_back_guarantee  \n",
       "1  5_day_money_back_guarantee, return_policy  \n",
       "2            free_rc_transfer, return_policy  \n",
       "3                                             \n",
       "4                           free_rc_transfer  \n",
       "5            free_rc_transfer, return_policy  \n",
       "6                           free_rc_transfer  \n",
       "7                           free_rc_transfer  \n",
       "8                                             \n",
       "9                           free_rc_transfer  "
      ]
     },
     "execution_count": 35,
     "metadata": {},
     "output_type": "execute_result"
    }
   ],
   "source": [
    "import os\n",
    "import pandas as pd\n",
    "\n",
    "# Function to read transcript text files\n",
    "def read_transcript(file_path):\n",
    "    with open(file_path, 'r') as file:\n",
    "        return file.read()\n",
    "\n",
    "# Update DataFrame to include the text data\n",
    "transcript_folder = 'transcripts'\n",
    "\n",
    "data = {\n",
    "    'Conversation_ID': [],\n",
    "    'Text': [],\n",
    "    'Labels': []\n",
    "}\n",
    "\n",
    "for conv_id, labels in transcript_labels.items():\n",
    "    file_path = os.path.join(transcript_folder, f'conv{conv_id}.txt')\n",
    "    text = read_transcript(file_path)\n",
    "    data['Conversation_ID'].append(conv_id)\n",
    "    data['Text'].append(text)\n",
    "    data['Labels'].append(', '.join([label.value for label in labels]))\n",
    "\n",
    "df = pd.DataFrame(data)\n",
    "\n",
    "df"
   ]
  },
  {
   "cell_type": "markdown",
   "metadata": {},
   "source": [
    "### Create dataset from dataframe"
   ]
  },
  {
   "cell_type": "code",
   "execution_count": 36,
   "metadata": {},
   "outputs": [],
   "source": [
    "# Create a label mapping\n",
    "all_labels = list(set(label for sublist in df['Labels'].str.split(', ') for label in sublist))\n",
    "label_to_id = {label: i for i, label in enumerate(all_labels)}\n",
    "id_to_label = {i: label for label, i in label_to_id.items()}"
   ]
  },
  {
   "cell_type": "code",
   "execution_count": 37,
   "metadata": {},
   "outputs": [
    {
     "data": {
      "text/plain": [
       "Dataset({\n",
       "    features: ['Conversation_ID', 'Text', 'Labels', '__index_level_0__'],\n",
       "    num_rows: 10\n",
       "})"
      ]
     },
     "execution_count": 37,
     "metadata": {},
     "output_type": "execute_result"
    }
   ],
   "source": [
    "from datasets import Dataset\n",
    "from sklearn.model_selection import train_test_split\n",
    "\n",
    "# Convert the DataFrame to a Dataset\n",
    "def create_dataset(df):\n",
    "    df['Labels'] = df['Labels'].str.split(', ').apply(lambda x: [label_to_id[label] for label in x])\n",
    "    df = df.explode('Labels')\n",
    "    dataset = Dataset.from_pandas(df)\n",
    "    return dataset, label_to_id, id_to_label\n",
    "\n",
    "train_df, val_df = train_test_split(df, test_size=0.2, random_state=42)\n",
    "train_dataset, label_to_id, id_to_label = create_dataset(train_df)\n",
    "val_dataset, _, _ = create_dataset(val_df)\n",
    "\n",
    "train_dataset"
   ]
  },
  {
   "cell_type": "markdown",
   "metadata": {},
   "source": [
    "### Load the model and tokenizer"
   ]
  },
  {
   "cell_type": "code",
   "execution_count": 38,
   "metadata": {},
   "outputs": [
    {
     "name": "stderr",
     "output_type": "stream",
     "text": [
      "/home/aryaniyaps/ml-projects/niral-hackathon-text-classification/.venv/lib/python3.12/site-packages/transformers/tokenization_utils_base.py:1601: FutureWarning: `clean_up_tokenization_spaces` was not set. It will be set to `True` by default. This behavior will be depracted in transformers v4.45, and will be then set to `False` by default. For more details check this issue: https://github.com/huggingface/transformers/issues/31884\n",
      "  warnings.warn(\n",
      "Some weights of BertForSequenceClassification were not initialized from the model checkpoint at bert-base-uncased and are newly initialized: ['classifier.bias', 'classifier.weight']\n",
      "You should probably TRAIN this model on a down-stream task to be able to use it for predictions and inference.\n"
     ]
    }
   ],
   "source": [
    "from transformers import BertTokenizer, BertForSequenceClassification\n",
    "\n",
    "# Load tokenizer and model\n",
    "tokenizer = BertTokenizer.from_pretrained('bert-base-uncased')\n",
    "model = BertForSequenceClassification.from_pretrained('bert-base-uncased', num_labels=len(label_to_id))"
   ]
  },
  {
   "cell_type": "markdown",
   "metadata": {},
   "source": [
    "### Tokenize and prepare data"
   ]
  },
  {
   "cell_type": "code",
   "execution_count": 39,
   "metadata": {},
   "outputs": [
    {
     "name": "stderr",
     "output_type": "stream",
     "text": [
      "Map: 100%|██████████| 10/10 [00:00<00:00, 136.31 examples/s]\n",
      "Map: 100%|██████████| 3/3 [00:00<00:00, 117.10 examples/s]\n",
      "Map: 100%|██████████| 10/10 [00:00<00:00, 1563.46 examples/s]\n",
      "Map: 100%|██████████| 3/3 [00:00<00:00, 515.48 examples/s]\n"
     ]
    }
   ],
   "source": [
    "def tokenize_function(examples):\n",
    "    # Tokenize the text\n",
    "    return tokenizer(examples['Text'], padding=\"max_length\", truncation=True)\n",
    "\n",
    "# Apply tokenization\n",
    "train_dataset = train_dataset.map(tokenize_function, batched=True)\n",
    "val_dataset = val_dataset.map(tokenize_function, batched=True)\n",
    "\n",
    "# Ensure that labels are formatted correctly\n",
    "def format_labels(examples):\n",
    "    # Ensure labels are correctly formatted as tensor of integers\n",
    "    labels = examples['Labels']\n",
    "    return {'labels': labels}\n",
    "\n",
    "train_dataset = train_dataset.map(format_labels, batched=True)\n",
    "val_dataset = val_dataset.map(format_labels, batched=True)\n",
    "\n",
    "# Set format for PyTorch\n",
    "train_dataset.set_format(type='torch', columns=['input_ids', 'attention_mask', 'labels'])\n",
    "val_dataset.set_format(type='torch', columns=['input_ids', 'attention_mask', 'labels'])\n"
   ]
  },
  {
   "cell_type": "markdown",
   "metadata": {},
   "source": [
    "### Finetune the model"
   ]
  },
  {
   "cell_type": "code",
   "execution_count": 40,
   "metadata": {},
   "outputs": [
    {
     "data": {
      "text/html": [
       "\n",
       "    <div>\n",
       "      \n",
       "      <progress value='6' max='6' style='width:300px; height:20px; vertical-align: middle;'></progress>\n",
       "      [6/6 00:10, Epoch 3/3]\n",
       "    </div>\n",
       "    <table border=\"1\" class=\"dataframe\">\n",
       "  <thead>\n",
       " <tr style=\"text-align: left;\">\n",
       "      <th>Step</th>\n",
       "      <th>Training Loss</th>\n",
       "    </tr>\n",
       "  </thead>\n",
       "  <tbody>\n",
       "  </tbody>\n",
       "</table><p>"
      ],
      "text/plain": [
       "<IPython.core.display.HTML object>"
      ]
     },
     "metadata": {},
     "output_type": "display_data"
    },
    {
     "data": {
      "text/html": [
       "\n",
       "    <div>\n",
       "      \n",
       "      <progress value='1' max='1' style='width:300px; height:20px; vertical-align: middle;'></progress>\n",
       "      [1/1 : < :]\n",
       "    </div>\n",
       "    "
      ],
      "text/plain": [
       "<IPython.core.display.HTML object>"
      ]
     },
     "metadata": {},
     "output_type": "display_data"
    },
    {
     "data": {
      "text/plain": [
       "('./fine-tuned-bert/tokenizer_config.json',\n",
       " './fine-tuned-bert/special_tokens_map.json',\n",
       " './fine-tuned-bert/vocab.txt',\n",
       " './fine-tuned-bert/added_tokens.json')"
      ]
     },
     "execution_count": 40,
     "metadata": {},
     "output_type": "execute_result"
    }
   ],
   "source": [
    "from transformers import Trainer, TrainingArguments\n",
    "\n",
    "# Define training arguments\n",
    "training_args = TrainingArguments(\n",
    "    output_dir='./results',\n",
    "    num_train_epochs=3,\n",
    "    per_device_train_batch_size=8,\n",
    "    per_device_eval_batch_size=8,\n",
    "    warmup_steps=500,\n",
    "    weight_decay=0.01,\n",
    "    logging_dir='./logs',\n",
    "    logging_steps=10,\n",
    ")\n",
    "\n",
    "# Create Trainer\n",
    "trainer = Trainer(\n",
    "    model=model,\n",
    "    args=training_args,\n",
    "    train_dataset=train_dataset,\n",
    "    eval_dataset=val_dataset,\n",
    ")\n",
    "\n",
    "# Train the model\n",
    "trainer.train()\n",
    "\n",
    "# Evaluate the model\n",
    "trainer.evaluate()\n",
    "\n",
    "# Save the model\n",
    "model.save_pretrained('./fine-tuned-bert')\n",
    "tokenizer.save_pretrained('./fine-tuned-bert')\n"
   ]
  }
 ],
 "metadata": {
  "kernelspec": {
   "display_name": ".venv",
   "language": "python",
   "name": "python3"
  },
  "language_info": {
   "codemirror_mode": {
    "name": "ipython",
    "version": 3
   },
   "file_extension": ".py",
   "mimetype": "text/x-python",
   "name": "python",
   "nbconvert_exporter": "python",
   "pygments_lexer": "ipython3",
   "version": "3.12.4"
  }
 },
 "nbformat": 4,
 "nbformat_minor": 2
}
